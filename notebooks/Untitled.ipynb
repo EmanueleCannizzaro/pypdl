{
 "cells": [
  {
   "cell_type": "code",
   "execution_count": 1,
   "id": "b8905158-0982-46ba-bd4c-2d116941064e",
   "metadata": {},
   "outputs": [],
   "source": [
    "%load_ext autoreload\n",
    "%autoreload 2"
   ]
  },
  {
   "cell_type": "code",
   "execution_count": 2,
   "id": "8caf4700-3de8-4036-8052-4e42d5bf94a9",
   "metadata": {},
   "outputs": [],
   "source": [
    "import asyncio\n",
    "import nest_asyncio\n",
    "import os\n",
    "import pandas as pd\n",
    "from sqlalchemy import inspect\n",
    "from sqlmodel import SQLModel, create_engine, Session, select\n",
    "from urllib.parse import quote\n",
    "\n",
    "from property_scraper.pvp.models.sale import Attachment\n",
    "\n",
    "from pypdl.downloader import AsyncFileDownloader"
   ]
  },
  {
   "cell_type": "code",
   "execution_count": 3,
   "id": "bcf1bcd6-0bf2-4c90-acfa-86e2d290dee1",
   "metadata": {},
   "outputs": [],
   "source": [
    "nest_asyncio.apply()"
   ]
  },
  {
   "cell_type": "code",
   "execution_count": 4,
   "id": "ecf04c87-1836-486d-affb-9febd292bea6",
   "metadata": {},
   "outputs": [],
   "source": [
    "database_url = \"sqlite:////media/emanuele/data/property_scraper/demos/pvp.sqlite\"\n",
    "table = 'attachments'\n",
    "column = 'attachment_link'\n",
    "rootname = 'https://pvp-documenti.apps.pvc-os-caas01-rs.polostrategiconazionale.it'\n",
    "output_folder : str = '/media/emanuele/data/property_scraper/demos/downloads/pvp/attachments'"
   ]
  },
  {
   "cell_type": "code",
   "execution_count": 5,
   "id": "cc079036-46c6-434a-903f-797f510e401d",
   "metadata": {},
   "outputs": [],
   "source": [
    "engine = create_engine(database_url)"
   ]
  },
  {
   "cell_type": "code",
   "execution_count": 6,
   "id": "55ed2bc2-716b-44c3-aee8-3f98d3a07f5d",
   "metadata": {},
   "outputs": [],
   "source": [
    "SQLModel.metadata.create_all(engine)"
   ]
  },
  {
   "cell_type": "code",
   "execution_count": 7,
   "id": "63dee144-027c-4344-828e-05a0cc46dfdd",
   "metadata": {},
   "outputs": [],
   "source": [
    "def get_columns_inspect(model_or_table):\n",
    "    return [column.name for column in inspect(model_or_table).columns]"
   ]
  },
  {
   "cell_type": "code",
   "execution_count": 8,
   "id": "2e96a383-f265-42e4-9dad-7c97d5008e5d",
   "metadata": {},
   "outputs": [
    {
     "data": {
      "text/plain": [
       "['id',\n",
       " 'attachment_id',\n",
       " 'file_name',\n",
       " 'attachment_link',\n",
       " 'size',\n",
       " 'description',\n",
       " 'attachment_type_code',\n",
       " 'is_lot_insertion',\n",
       " 'content_base64',\n",
       " 'asset_id']"
      ]
     },
     "execution_count": 8,
     "metadata": {},
     "output_type": "execute_result"
    }
   ],
   "source": [
    "get_columns_inspect(Attachment)"
   ]
  },
  {
   "cell_type": "code",
   "execution_count": 9,
   "id": "2f134860-4903-49e7-a8b7-468dc74572b0",
   "metadata": {},
   "outputs": [
    {
     "name": "stdout",
     "output_type": "stream",
     "text": [
      "518245\n",
      "https://pvp-documenti.apps.pvc-os-caas01-rs.polostrategiconazionale.it/allegati/99095/Perizia.pdf?versionId=adc6bd71-e423-4fd3-ada3-a7385369ad2b\n",
      "https://pvp-documenti.apps.pvc-os-caas01-rs.polostrategiconazionale.it/allegati/99095/Avviso%20di%20vendita.pdf?versionId=80993e26-9bf8-4e6f-8915-f06730f2024a\n",
      "https://pvp-documenti.apps.pvc-os-caas01-rs.polostrategiconazionale.it/allegati/99095/Ordinanza%20vendita.pdf?versionId=8e98d584-b327-45e3-b0b8-1ca2f917ba18\n"
     ]
    }
   ],
   "source": [
    "with Session(engine) as session:\n",
    "    statement = select(Attachment.attachment_link)\n",
    "    results = session.exec(statement).all()\n",
    "    urls = [os.path.join(rootname, quote(result[1:], safe=':/?=&')) for result in results]\n",
    "    print(len(urls))\n",
    "    print('\\n'.join(urls[:3]))\n",
    "df = pd.DataFrame(urls)\n",
    "df.to_csv('/media/emanuele/data/property_scraper/demos/downloads/pvp/attachments/urls.csv', index=False)"
   ]
  },
  {
   "cell_type": "code",
   "execution_count": 10,
   "id": "d7f2aaec-109e-40d0-93aa-b984c8eb9c19",
   "metadata": {},
   "outputs": [
    {
     "name": "stdout",
     "output_type": "stream",
     "text": [
      "518245\n"
     ]
    }
   ],
   "source": [
    "print(len(urls))"
   ]
  },
  {
   "cell_type": "code",
   "execution_count": 11,
   "id": "5a2fb869-8558-4e9b-b239-7c664bbf039e",
   "metadata": {},
   "outputs": [
    {
     "data": {
      "text/plain": [
       "'https://pvp-documenti.apps.pvc-os-caas01-rs.polostrategiconazionale.it/allegati/99095/Perizia.pdf?versionId=adc6bd71-e423-4fd3-ada3-a7385369ad2b'"
      ]
     },
     "execution_count": 11,
     "metadata": {},
     "output_type": "execute_result"
    }
   ],
   "source": [
    "urls[0]"
   ]
  },
  {
   "cell_type": "code",
   "execution_count": 15,
   "id": "93f4665f-fc0e-4dd4-8a7b-e365f14ceacf",
   "metadata": {},
   "outputs": [],
   "source": [
    "async def main():\n",
    "    async with AsyncFileDownloader() as downloader:\n",
    "        result = await downloader.download_file(urls[0], output_folder=output_folder)\n",
    "        print(f\"Content: {content[:10]}\")"
   ]
  },
  {
   "cell_type": "code",
   "execution_count": 19,
   "id": "a2158e40-a881-44ab-b37e-b7f09b4e5ae4",
   "metadata": {},
   "outputs": [],
   "source": [
    "async def main():\n",
    "    async with AsyncFileDownloader() as downloader:\n",
    "        results = await downloader.download_all(urls[:10000], output_folder=output_folder)"
   ]
  },
  {
   "cell_type": "code",
   "execution_count": 20,
   "id": "ed64e4bb-efab-41d5-b4ff-c24c1217ddca",
   "metadata": {},
   "outputs": [
    {
     "name": "stderr",
     "output_type": "stream",
     "text": [
      "\n",
      "Downloading:   0%|                                                                                                                                                                                                 | 0/10 [00:00<?, ?file/s]\u001b[A\n",
      "Downloading: 100%|████████████████████████████████████████████████████████████████████████████████████████████████████████████████████████████████████████████████████████████████████████████████████████| 10/10 [03:11<00:00, 19.17s/file]\u001b[A\n"
     ]
    },
    {
     "ename": "KeyboardInterrupt",
     "evalue": "",
     "output_type": "error",
     "traceback": [
      "\u001b[0;31m---------------------------------------------------------------------------\u001b[0m",
      "\u001b[0;31mKeyboardInterrupt\u001b[0m                         Traceback (most recent call last)",
      "Cell \u001b[0;32mIn[20], line 1\u001b[0m\n\u001b[0;32m----> 1\u001b[0m \u001b[43masyncio\u001b[49m\u001b[38;5;241;43m.\u001b[39;49m\u001b[43mrun\u001b[49m\u001b[43m(\u001b[49m\u001b[43mmain\u001b[49m\u001b[43m(\u001b[49m\u001b[43m)\u001b[49m\u001b[43m)\u001b[49m\n",
      "File \u001b[0;32m~/.conda/envs/py312/lib/python3.12/site-packages/nest_asyncio.py:30\u001b[0m, in \u001b[0;36m_patch_asyncio.<locals>.run\u001b[0;34m(main, debug)\u001b[0m\n\u001b[1;32m     28\u001b[0m task \u001b[38;5;241m=\u001b[39m asyncio\u001b[38;5;241m.\u001b[39mensure_future(main)\n\u001b[1;32m     29\u001b[0m \u001b[38;5;28;01mtry\u001b[39;00m:\n\u001b[0;32m---> 30\u001b[0m     \u001b[38;5;28;01mreturn\u001b[39;00m \u001b[43mloop\u001b[49m\u001b[38;5;241;43m.\u001b[39;49m\u001b[43mrun_until_complete\u001b[49m\u001b[43m(\u001b[49m\u001b[43mtask\u001b[49m\u001b[43m)\u001b[49m\n\u001b[1;32m     31\u001b[0m \u001b[38;5;28;01mfinally\u001b[39;00m:\n\u001b[1;32m     32\u001b[0m     \u001b[38;5;28;01mif\u001b[39;00m \u001b[38;5;129;01mnot\u001b[39;00m task\u001b[38;5;241m.\u001b[39mdone():\n",
      "File \u001b[0;32m~/.conda/envs/py312/lib/python3.12/site-packages/nest_asyncio.py:92\u001b[0m, in \u001b[0;36m_patch_loop.<locals>.run_until_complete\u001b[0;34m(self, future)\u001b[0m\n\u001b[1;32m     90\u001b[0m     f\u001b[38;5;241m.\u001b[39m_log_destroy_pending \u001b[38;5;241m=\u001b[39m \u001b[38;5;28;01mFalse\u001b[39;00m\n\u001b[1;32m     91\u001b[0m \u001b[38;5;28;01mwhile\u001b[39;00m \u001b[38;5;129;01mnot\u001b[39;00m f\u001b[38;5;241m.\u001b[39mdone():\n\u001b[0;32m---> 92\u001b[0m     \u001b[38;5;28;43mself\u001b[39;49m\u001b[38;5;241;43m.\u001b[39;49m\u001b[43m_run_once\u001b[49m\u001b[43m(\u001b[49m\u001b[43m)\u001b[49m\n\u001b[1;32m     93\u001b[0m     \u001b[38;5;28;01mif\u001b[39;00m \u001b[38;5;28mself\u001b[39m\u001b[38;5;241m.\u001b[39m_stopping:\n\u001b[1;32m     94\u001b[0m         \u001b[38;5;28;01mbreak\u001b[39;00m\n",
      "File \u001b[0;32m~/.conda/envs/py312/lib/python3.12/site-packages/nest_asyncio.py:115\u001b[0m, in \u001b[0;36m_patch_loop.<locals>._run_once\u001b[0;34m(self)\u001b[0m\n\u001b[1;32m    108\u001b[0m     heappop(scheduled)\n\u001b[1;32m    110\u001b[0m timeout \u001b[38;5;241m=\u001b[39m (\n\u001b[1;32m    111\u001b[0m     \u001b[38;5;241m0\u001b[39m \u001b[38;5;28;01mif\u001b[39;00m ready \u001b[38;5;129;01mor\u001b[39;00m \u001b[38;5;28mself\u001b[39m\u001b[38;5;241m.\u001b[39m_stopping\n\u001b[1;32m    112\u001b[0m     \u001b[38;5;28;01melse\u001b[39;00m \u001b[38;5;28mmin\u001b[39m(\u001b[38;5;28mmax\u001b[39m(\n\u001b[1;32m    113\u001b[0m         scheduled[\u001b[38;5;241m0\u001b[39m]\u001b[38;5;241m.\u001b[39m_when \u001b[38;5;241m-\u001b[39m \u001b[38;5;28mself\u001b[39m\u001b[38;5;241m.\u001b[39mtime(), \u001b[38;5;241m0\u001b[39m), \u001b[38;5;241m86400\u001b[39m) \u001b[38;5;28;01mif\u001b[39;00m scheduled\n\u001b[1;32m    114\u001b[0m     \u001b[38;5;28;01melse\u001b[39;00m \u001b[38;5;28;01mNone\u001b[39;00m)\n\u001b[0;32m--> 115\u001b[0m event_list \u001b[38;5;241m=\u001b[39m \u001b[38;5;28;43mself\u001b[39;49m\u001b[38;5;241;43m.\u001b[39;49m\u001b[43m_selector\u001b[49m\u001b[38;5;241;43m.\u001b[39;49m\u001b[43mselect\u001b[49m\u001b[43m(\u001b[49m\u001b[43mtimeout\u001b[49m\u001b[43m)\u001b[49m\n\u001b[1;32m    116\u001b[0m \u001b[38;5;28mself\u001b[39m\u001b[38;5;241m.\u001b[39m_process_events(event_list)\n\u001b[1;32m    118\u001b[0m end_time \u001b[38;5;241m=\u001b[39m \u001b[38;5;28mself\u001b[39m\u001b[38;5;241m.\u001b[39mtime() \u001b[38;5;241m+\u001b[39m \u001b[38;5;28mself\u001b[39m\u001b[38;5;241m.\u001b[39m_clock_resolution\n",
      "File \u001b[0;32m~/.conda/envs/py312/lib/python3.12/selectors.py:468\u001b[0m, in \u001b[0;36mEpollSelector.select\u001b[0;34m(self, timeout)\u001b[0m\n\u001b[1;32m    466\u001b[0m ready \u001b[38;5;241m=\u001b[39m []\n\u001b[1;32m    467\u001b[0m \u001b[38;5;28;01mtry\u001b[39;00m:\n\u001b[0;32m--> 468\u001b[0m     fd_event_list \u001b[38;5;241m=\u001b[39m \u001b[38;5;28;43mself\u001b[39;49m\u001b[38;5;241;43m.\u001b[39;49m\u001b[43m_selector\u001b[49m\u001b[38;5;241;43m.\u001b[39;49m\u001b[43mpoll\u001b[49m\u001b[43m(\u001b[49m\u001b[43mtimeout\u001b[49m\u001b[43m,\u001b[49m\u001b[43m \u001b[49m\u001b[43mmax_ev\u001b[49m\u001b[43m)\u001b[49m\n\u001b[1;32m    469\u001b[0m \u001b[38;5;28;01mexcept\u001b[39;00m \u001b[38;5;167;01mInterruptedError\u001b[39;00m:\n\u001b[1;32m    470\u001b[0m     \u001b[38;5;28;01mreturn\u001b[39;00m ready\n",
      "\u001b[0;31mKeyboardInterrupt\u001b[0m: "
     ]
    }
   ],
   "source": [
    "asyncio.run(main())"
   ]
  },
  {
   "cell_type": "code",
   "execution_count": null,
   "id": "53de0ab3-61db-4e09-8f2f-d39ca13a806c",
   "metadata": {},
   "outputs": [],
   "source": []
  }
 ],
 "metadata": {
  "kernelspec": {
   "display_name": "Python 3.12 (py312)",
   "language": "python",
   "name": "py312"
  },
  "language_info": {
   "codemirror_mode": {
    "name": "ipython",
    "version": 3
   },
   "file_extension": ".py",
   "mimetype": "text/x-python",
   "name": "python",
   "nbconvert_exporter": "python",
   "pygments_lexer": "ipython3",
   "version": "3.12.3"
  }
 },
 "nbformat": 4,
 "nbformat_minor": 5
}
