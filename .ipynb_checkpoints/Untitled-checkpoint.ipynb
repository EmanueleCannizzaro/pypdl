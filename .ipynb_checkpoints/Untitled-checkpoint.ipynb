{
 "cells": [
  {
   "cell_type": "code",
   "execution_count": null,
   "id": "b8905158-0982-46ba-bd4c-2d116941064e",
   "metadata": {},
   "outputs": [],
   "source": []
  },
  {
   "cell_type": "code",
   "execution_count": 35,
   "id": "8caf4700-3de8-4036-8052-4e42d5bf94a9",
   "metadata": {},
   "outputs": [],
   "source": [
    "import os\n",
    "import pandas as pd\n",
    "from sqlalchemy import inspect\n",
    "from sqlmodel import SQLModel, create_engine, Session, select\n",
    "from urllib.parse import quote\n",
    "\n",
    "from property_scraper.pvp.models.sale import Attachment"
   ]
  },
  {
   "cell_type": "code",
   "execution_count": 27,
   "id": "ecf04c87-1836-486d-affb-9febd292bea6",
   "metadata": {},
   "outputs": [],
   "source": [
    "database_url = \"sqlite:////media/emanuele/ai/property_scraper/demos/pvp.sqlite\"\n",
    "table = 'attachments'\n",
    "column = 'attachment_link'\n",
    "rootname = 'https://pvp-documenti.apps.pvc-os-caas01-rs.polostrategiconazionale.it'"
   ]
  },
  {
   "cell_type": "code",
   "execution_count": 3,
   "id": "cc079036-46c6-434a-903f-797f510e401d",
   "metadata": {},
   "outputs": [],
   "source": [
    "engine = create_engine(database_url)"
   ]
  },
  {
   "cell_type": "code",
   "execution_count": 4,
   "id": "55ed2bc2-716b-44c3-aee8-3f98d3a07f5d",
   "metadata": {},
   "outputs": [],
   "source": [
    "SQLModel.metadata.create_all(engine)"
   ]
  },
  {
   "cell_type": "code",
   "execution_count": 6,
   "id": "63dee144-027c-4344-828e-05a0cc46dfdd",
   "metadata": {},
   "outputs": [],
   "source": [
    "def get_columns_inspect(model_or_table):\n",
    "    return [column.name for column in inspect(model_or_table).columns]"
   ]
  },
  {
   "cell_type": "code",
   "execution_count": 10,
   "id": "2e96a383-f265-42e4-9dad-7c97d5008e5d",
   "metadata": {},
   "outputs": [
    {
     "data": {
      "text/plain": [
       "['id',\n",
       " 'attachment_id',\n",
       " 'file_name',\n",
       " 'attachment_link',\n",
       " 'size',\n",
       " 'description',\n",
       " 'attachment_type_code',\n",
       " 'is_lot_insertion',\n",
       " 'content_base64',\n",
       " 'asset_id']"
      ]
     },
     "execution_count": 10,
     "metadata": {},
     "output_type": "execute_result"
    }
   ],
   "source": [
    "get_columns_inspect(Attachment)"
   ]
  },
  {
   "cell_type": "code",
   "execution_count": 14,
   "id": "d7f2aaec-109e-40d0-93aa-b984c8eb9c19",
   "metadata": {},
   "outputs": [],
   "source": []
  },
  {
   "cell_type": "code",
   "execution_count": 36,
   "id": "2f134860-4903-49e7-a8b7-468dc74572b0",
   "metadata": {},
   "outputs": [
    {
     "name": "stdout",
     "output_type": "stream",
     "text": [
      "https%3A//pvp-documenti.apps.pvc-os-caas01-rs.polostrategiconazionale.it/allegati/99095/Perizia.pdf%3FversionId%3Dadc6bd71-e423-4fd3-ada3-a7385369ad2b\n",
      "https%3A//pvp-documenti.apps.pvc-os-caas01-rs.polostrategiconazionale.it/allegati/99095/Avviso%20di%20vendita.pdf%3FversionId%3D80993e26-9bf8-4e6f-8915-f06730f2024a\n",
      "https%3A//pvp-documenti.apps.pvc-os-caas01-rs.polostrategiconazionale.it/allegati/99095/Ordinanza%20vendita.pdf%3FversionId%3D8e98d584-b327-45e3-b0b8-1ca2f917ba18\n",
      "https%3A//pvp-documenti.apps.pvc-os-caas01-rs.polostrategiconazionale.it/allegati/4240188/AVVISO%20DI%20VENDITA%20156-2010%20%282%29.pdf%3FversionId%3Dec9ae301-2199-4d06-b113-f49618639334\n",
      "https%3A//pvp-documenti.apps.pvc-os-caas01-rs.polostrategiconazionale.it/allegati/4240188/PERIZIA%20156-2010_compressed%20%281%29_Redacted.pdf%3FversionId%3D5d85a71c-47fa-48f6-8261-482a0d6dd2c3\n",
      "https%3A//pvp-documenti.apps.pvc-os-caas01-rs.polostrategiconazionale.it/allegati/4240188/DELEGA%20156-2010.pdf%3FversionId%3D7d1ed52f-cdd7-4dbc-8175-f43460f623df\n",
      "https%3A//pvp-documenti.apps.pvc-os-caas01-rs.polostrategiconazionale.it/allegati/4239915/avviso%20vendita%20telematica%20firmato%20pb.pdf%3FversionId%3D963bfd5b-7e79-424f-83b3-24dd9cf96a9c\n",
      "https%3A//pvp-documenti.apps.pvc-os-caas01-rs.polostrategiconazionale.it/allegati/4239915/Ordinanza%20-%20PVP.pdf%3FversionId%3D24db1268-4cbf-4e46-b1fa-a7b5c04f1998\n",
      "https%3A//pvp-documenti.apps.pvc-os-caas01-rs.polostrategiconazionale.it/allegati/4239915/Perizia%20-%20PVP.pdf%3FversionId%3D5c524ccb-c641-405a-8cbf-9ce4af0691f1\n",
      "https%3A//pvp-documenti.apps.pvc-os-caas01-rs.polostrategiconazionale.it/allegati/4240187/Lotto%201%20foto%20%2B%20planimetria.pdf%3FversionId%3D08eff914-bc74-419c-8435-37e56fb3dc61\n"
     ]
    }
   ],
   "source": [
    "with Session(engine) as session:\n",
    "    statement = select(Attachment.attachment_link).limit(1000)\n",
    "    results = session.exec(statement).all()\n",
    "    urls = [os.path.join(rootname, quote(result[1:])) for result in results]\n",
    "    print('\\n'.join(urls[:10]))\n",
    "df = pd.DataFrame(urls)\n",
    "df.to_csv('/media/emanuele/ai/property_scraper/demos/downloads/pvp/attachments/urls.csv', index=False)"
   ]
  },
  {
   "cell_type": "code",
   "execution_count": null,
   "id": "1a1df761-62ca-43b4-ad79-bc097c8d0eea",
   "metadata": {},
   "outputs": [],
   "source": []
  }
 ],
 "metadata": {
  "kernelspec": {
   "display_name": "Python 3.12 (py312)",
   "language": "python",
   "name": "py312"
  },
  "language_info": {
   "codemirror_mode": {
    "name": "ipython",
    "version": 3
   },
   "file_extension": ".py",
   "mimetype": "text/x-python",
   "name": "python",
   "nbconvert_exporter": "python",
   "pygments_lexer": "ipython3",
   "version": "3.12.3"
  }
 },
 "nbformat": 4,
 "nbformat_minor": 5
}
